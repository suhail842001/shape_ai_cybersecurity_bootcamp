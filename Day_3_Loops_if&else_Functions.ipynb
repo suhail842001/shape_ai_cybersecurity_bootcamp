{
 "cells": [
  {
   "cell_type": "markdown",
   "metadata": {},
   "source": [
    "# Control Flow:\n",
    "#### Welcome to this lesson on Control Flow! Control flow is the sequence in which your code is run helping you in decision making.<br> Here, we'll learn about several tools in Python we can use to affect our code's control flow:\n",
    "\n",
    "- Conditional Statements\n",
    "- Boolean Expressions\n",
    "- For and While Loops\n",
    "- Break and Continue\n",
    "- Zip and Enumerate\n",
    "- List Comprehensions"
   ]
  },
  {
   "cell_type": "markdown",
   "metadata": {},
   "source": [
    "### Comparisons operators:\n",
    "- Equal:            ==\n",
    "- Not Equal:        !=\n",
    "- Greater than:     >\n",
    "- Less than:        <\n",
    "- Greater or equal: >=\n",
    "- Less or equal:    <=\n",
    "- Object Identity:  is - Checks weather two elements are same object and memory\n"
   ]
  },
  {
   "cell_type": "code",
   "execution_count": 1,
   "metadata": {},
   "outputs": [
    {
     "name": "stdout",
     "output_type": "stream",
     "text": [
      "Language is Java\n"
     ]
    }
   ],
   "source": [
    "lang = 'Java'\n",
    "\n",
    "if lang == 'Python':\n",
    "    print('Language is Python')\n",
    "elif lang == 'Java':\n",
    "    print('Language is Java')\n",
    "else:\n",
    "    print('No match')"
   ]
  },
  {
   "cell_type": "code",
   "execution_count": 2,
   "metadata": {},
   "outputs": [
    {
     "name": "stdout",
     "output_type": "stream",
     "text": [
      "Bad creds\n"
     ]
    }
   ],
   "source": [
    "#and,or & not:\n",
    "\n",
    "user = 'Admin'\n",
    "logged_in = False\n",
    "\n",
    "if user == 'Admin' and logged_in:\n",
    "    print('Admin page')\n",
    "else:\n",
    "    print('Bad creds')"
   ]
  },
  {
   "cell_type": "code",
   "execution_count": 3,
   "metadata": {},
   "outputs": [
    {
     "name": "stdout",
     "output_type": "stream",
     "text": [
      "Admin page\n"
     ]
    }
   ],
   "source": [
    "user = 'Admin'\n",
    "logged_in = True\n",
    "\n",
    "if user == 'Admin' or logged_in:\n",
    "    print('Admin page')\n",
    "else:\n",
    "    print('Bad creds')"
   ]
  },
  {
   "cell_type": "code",
   "execution_count": 5,
   "metadata": {},
   "outputs": [
    {
     "name": "stdout",
     "output_type": "stream",
     "text": [
      "True\n"
     ]
    }
   ],
   "source": [
    "a = [1,2,3]\n",
    "b = [1,2,3]\n",
    "\n",
    "print(a == b)"
   ]
  },
  {
   "cell_type": "code",
   "execution_count": 6,
   "metadata": {},
   "outputs": [
    {
     "name": "stdout",
     "output_type": "stream",
     "text": [
      "2466803111560\n",
      "2466803109960\n",
      "False\n",
      "False\n"
     ]
    }
   ],
   "source": [
    "a = [1,2,3]\n",
    "b = [1,2,3]\n",
    "\n",
    "print(id(a))\n",
    "print(id(b))\n",
    "print(id(a)==id(b))\n",
    "print(a is b)"
   ]
  },
  {
   "cell_type": "markdown",
   "metadata": {},
   "source": [
    "#### False values: <br>\n",
    "False<br>\n",
    "None<br>\n",
    "Numerical Zero<br>\n",
    "Any empty sequence. Eg: '', (), []<br>\n",
    "Any empty mapping. Eg: {}<br>\n"
   ]
  },
  {
   "cell_type": "code",
   "execution_count": 8,
   "metadata": {},
   "outputs": [
    {
     "name": "stdout",
     "output_type": "stream",
     "text": [
      "Evaluated to True\n"
     ]
    }
   ],
   "source": [
    "condition = 2\n",
    "\n",
    "if condition:\n",
    "    print('Evaluated to True')\n",
    "else:\n",
    "    print('Evaluated to False')"
   ]
  },
  {
   "cell_type": "markdown",
   "metadata": {},
   "source": [
    "### Loops & Iterations - for/while loops:"
   ]
  },
  {
   "cell_type": "code",
   "execution_count": 9,
   "metadata": {},
   "outputs": [],
   "source": [
    "nums = [1,2,3,4,5]"
   ]
  },
  {
   "cell_type": "code",
   "execution_count": 10,
   "metadata": {},
   "outputs": [
    {
     "name": "stdout",
     "output_type": "stream",
     "text": [
      "1\n",
      "2\n",
      "3\n",
      "4\n",
      "5\n"
     ]
    }
   ],
   "source": [
    "for num in nums:\n",
    "    print(num)\n",
    "\n",
    "#Iterates and returns each item using loop"
   ]
  },
  {
   "cell_type": "code",
   "execution_count": 11,
   "metadata": {},
   "outputs": [
    {
     "name": "stdout",
     "output_type": "stream",
     "text": [
      "1\n",
      "2\n",
      "Found!\n"
     ]
    }
   ],
   "source": [
    "for num in nums:\n",
    "    if num == 3:\n",
    "        print('Found!')\n",
    "        break\n",
    "    print(num)\n",
    "    \n",
    "#Breaks out of loop if the item is found"
   ]
  },
  {
   "cell_type": "code",
   "execution_count": null,
   "metadata": {},
   "outputs": [],
   "source": []
  },
  {
   "cell_type": "code",
   "execution_count": 12,
   "metadata": {},
   "outputs": [
    {
     "name": "stdout",
     "output_type": "stream",
     "text": [
      "1\n",
      "2\n",
      "Found!\n",
      "4\n",
      "5\n"
     ]
    }
   ],
   "source": [
    "for num in nums:\n",
    "    if num == 3:\n",
    "        print('Found!')\n",
    "        continue\n",
    "    print(num)\n",
    "    \n",
    "#Breaks out of loop if the item is found"
   ]
  },
  {
   "cell_type": "code",
   "execution_count": 13,
   "metadata": {},
   "outputs": [
    {
     "name": "stdout",
     "output_type": "stream",
     "text": [
      "1 a\n",
      "1 b\n",
      "1 c\n",
      "2 a\n",
      "2 b\n",
      "2 c\n",
      "3 a\n",
      "3 b\n",
      "3 c\n",
      "4 a\n",
      "4 b\n",
      "4 c\n",
      "5 a\n",
      "5 b\n",
      "5 c\n"
     ]
    }
   ],
   "source": [
    "for num in nums:\n",
    "    for letter in 'abc':\n",
    "        print(num,letter)\n",
    "\n",
    "#Nested loop - Loop within a loop"
   ]
  },
  {
   "cell_type": "code",
   "execution_count": 14,
   "metadata": {},
   "outputs": [
    {
     "name": "stdout",
     "output_type": "stream",
     "text": [
      "0\n",
      "1\n",
      "2\n",
      "3\n",
      "4\n",
      "5\n",
      "6\n",
      "7\n",
      "8\n",
      "9\n"
     ]
    }
   ],
   "source": [
    "for i in range(10):\n",
    "    print(i)\n",
    "\n",
    "#prints 0-9"
   ]
  },
  {
   "cell_type": "code",
   "execution_count": 16,
   "metadata": {},
   "outputs": [
    {
     "name": "stdout",
     "output_type": "stream",
     "text": [
      "1\n",
      "2\n",
      "3\n",
      "4\n",
      "5\n",
      "6\n",
      "7\n",
      "8\n",
      "9\n",
      "10\n"
     ]
    }
   ],
   "source": [
    "for i in range(1,11):\n",
    "    print(i)\n",
    "#prints 1-10, taking one step at a moment"
   ]
  },
  {
   "cell_type": "code",
   "execution_count": 17,
   "metadata": {},
   "outputs": [
    {
     "name": "stdout",
     "output_type": "stream",
     "text": [
      "1\n",
      "3\n",
      "5\n",
      "7\n",
      "9\n",
      "11\n",
      "13\n",
      "15\n",
      "17\n",
      "19\n"
     ]
    }
   ],
   "source": [
    "for i in range(1,21,2):\n",
    "    print(i)\n",
    "#prints 1-19, skipping a value after each iteration"
   ]
  },
  {
   "cell_type": "code",
   "execution_count": 19,
   "metadata": {},
   "outputs": [
    {
     "name": "stdout",
     "output_type": "stream",
     "text": [
      "0\n",
      "1\n",
      "2\n",
      "3\n",
      "4\n",
      "5\n",
      "6\n",
      "7\n",
      "8\n",
      "9\n"
     ]
    }
   ],
   "source": [
    "### While loop:\n",
    "x = 0\n",
    "\n",
    "while x < 10:\n",
    "    print(x)\n",
    "    x += 1\n",
    "\n",
    "'''    \n",
    "while \n",
    "    \n"
   ]
  },
  {
   "cell_type": "markdown",
   "metadata": {},
   "source": [
    "# Functions:\n"
   ]
  },
  {
   "cell_type": "code",
   "execution_count": 37,
   "metadata": {},
   "outputs": [],
   "source": [
    "def hello_func():\n",
    "    pass\n",
    "\n",
    "#pass keywords avoid errors if we want to leave that function for a while \n",
    "#Paranthesis () is where we pass the parameters"
   ]
  },
  {
   "cell_type": "code",
   "execution_count": 38,
   "metadata": {},
   "outputs": [],
   "source": [
    "hello_func() # to run the function"
   ]
  },
  {
   "cell_type": "code",
   "execution_count": 23,
   "metadata": {},
   "outputs": [
    {
     "name": "stdout",
     "output_type": "stream",
     "text": [
      "Hello Function!\n"
     ]
    }
   ],
   "source": [
    "def hello_func():\n",
    "    print('Hello Function!')\n",
    "hello_func()"
   ]
  },
  {
   "cell_type": "markdown",
   "metadata": {},
   "source": [
    "#### Functions allows to reuse the code just like variable. \n",
    "#### Works as a machine, we give input to get the desirable output"
   ]
  },
  {
   "cell_type": "code",
   "execution_count": 27,
   "metadata": {},
   "outputs": [
    {
     "name": "stdout",
     "output_type": "stream",
     "text": [
      "HELLO FUNCTION!\n"
     ]
    }
   ],
   "source": [
    "def hello_func():\n",
    "    return 'Hello Function!'\n",
    "hello_func()\n",
    "\n",
    "#When we executes the function, then it's equivalent to the return value\n",
    "#As the return value is a string, then we can use string methods with the function\n",
    "\n",
    "print(hello_func().upper())"
   ]
  },
  {
   "cell_type": "code",
   "execution_count": 31,
   "metadata": {},
   "outputs": [
    {
     "name": "stdout",
     "output_type": "stream",
     "text": [
      "Hi Function!\n"
     ]
    }
   ],
   "source": [
    "# Passing an argument/parameter to the function.\n",
    "\n",
    "def hello_func(greeting):\n",
    "    return '{} Function!'.format(greeting)\n",
    "print(hello_func('Hi'))\n",
    "\n",
    "# greeting variable doesn't affect any variable outside the function. It's scope is local to this function\n",
    "# You can define a variable named greeting, outside the function."
   ]
  },
  {
   "cell_type": "code",
   "execution_count": 41,
   "metadata": {},
   "outputs": [
    {
     "name": "stdout",
     "output_type": "stream",
     "text": [
      "Hi, harsh!\n"
     ]
    }
   ],
   "source": [
    "#Passing two parameters and default values\n",
    "\n",
    "def hello_func(greeting,name='You'):\n",
    "    return '{}, {}!'.format(greeting, name)\n",
    "\n",
    "print(hello_func('Hi','harsh'))\n",
    "\n",
    "#You is default value for name parameter"
   ]
  },
  {
   "cell_type": "code",
   "execution_count": 42,
   "metadata": {},
   "outputs": [
    {
     "name": "stdout",
     "output_type": "stream",
     "text": [
      "('Math', 'Art')\n",
      "{'name': 'harsh', 'age': '21'}\n",
      "None\n"
     ]
    }
   ],
   "source": [
    "# Use it when you aren't sure about the numbers of arguments(args) and keyword arguments (kwargs)\n",
    "# args - arguments\n",
    "# kwargs - Keyword arguments\n",
    "\n",
    "def student_info(*args, **kwargs):\n",
    "    print(args)\n",
    "    print(kwargs)\n",
    "\n",
    "print(student_info('Math', 'Art', name = 'harsh', age = '21'))"
   ]
  },
  {
   "cell_type": "code",
   "execution_count": 46,
   "metadata": {},
   "outputs": [
    {
     "name": "stdout",
     "output_type": "stream",
     "text": [
      "(['Math', 'Art'], {'name': 'harsh', 'age': '21'})\n",
      "{}\n",
      "None\n"
     ]
    }
   ],
   "source": [
    "# Use it when you aren't sure about the numbers of arguments(args) and keyword arguments (kwargs)\n",
    "# args - arguments\n",
    "# kwargs - Keyword arguments\n",
    "\n",
    "def student_info(*args, **kwargs):\n",
    "    print(args)\n",
    "    print(kwargs)\n",
    "\n",
    "courses = ['Math','Art']\n",
    "info = {'name':'harsh', 'age':'21'}\n",
    "\n",
    "print(student_info(courses,info))"
   ]
  },
  {
   "cell_type": "markdown",
   "metadata": {},
   "source": [
    "#### * & ** is added to differentiate b/w arguments and keyword arguments"
   ]
  },
  {
   "cell_type": "markdown",
   "metadata": {},
   "source": [
    "### Let's put everything together and create a program to check if a year is leap or not "
   ]
  },
  {
   "cell_type": "code",
   "execution_count": 1,
   "metadata": {},
   "outputs": [
    {
     "name": "stdout",
     "output_type": "stream",
     "text": [
      "29\n"
     ]
    }
   ],
   "source": [
    "def month_ui(year,month):\n",
    "\n",
    "    leap=0\n",
    "    if year % 400 == 0:\n",
    "        leap=1\n",
    "    elif year % 100 == 0:\n",
    "        leap = 0\n",
    "    elif year % 4 == 0:\n",
    "        leap = 1\n",
    "    if month == 2:\n",
    "        return 28 + leap\n",
    "    month_list = [1,3,5,7,8,10,12]\n",
    "    if month in month_list:\n",
    "        return 31\n",
    "    else:\n",
    "        return 30\n",
    "\n",
    "\n",
    "\n",
    "year = 2020\n",
    "month = 2\n",
    "print(month_ui(year,month))"
   ]
  },
  {
   "cell_type": "code",
   "execution_count": 48,
   "metadata": {},
   "outputs": [],
   "source": []
  },
  {
   "cell_type": "code",
   "execution_count": null,
   "metadata": {},
   "outputs": [],
   "source": []
  },
  {
   "cell_type": "code",
   "execution_count": null,
   "metadata": {},
   "outputs": [],
   "source": []
  }
 ],
 "metadata": {
  "kernelspec": {
   "display_name": "Python 3",
   "language": "python",
   "name": "python3"
  },
  "language_info": {
   "codemirror_mode": {
    "name": "ipython",
    "version": 3
   },
   "file_extension": ".py",
   "mimetype": "text/x-python",
   "name": "python",
   "nbconvert_exporter": "python",
   "pygments_lexer": "ipython3",
   "version": "3.7.3"
  }
 },
 "nbformat": 4,
 "nbformat_minor": 2
}
